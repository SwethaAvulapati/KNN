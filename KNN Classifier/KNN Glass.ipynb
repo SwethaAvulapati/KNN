{
 "cells": [
  {
   "cell_type": "code",
   "execution_count": 1,
   "id": "64f20214",
   "metadata": {},
   "outputs": [],
   "source": [
    "import pandas as pd\n"
   ]
  },
  {
   "cell_type": "code",
   "execution_count": 2,
   "id": "526b437e",
   "metadata": {},
   "outputs": [],
   "source": [
    "df = pd.read_csv(r\"C:\\Users\\hp\\Desktop\\EXCELR_ASSIGNMENTA\\ASSIGNMENTS\\KNN classifiers 2\\glass.csv\")\n"
   ]
  },
  {
   "cell_type": "code",
   "execution_count": 3,
   "id": "081d82b3",
   "metadata": {},
   "outputs": [
    {
     "data": {
      "text/plain": [
       "(214, 10)"
      ]
     },
     "execution_count": 3,
     "metadata": {},
     "output_type": "execute_result"
    }
   ],
   "source": [
    "df.shape\n"
   ]
  },
  {
   "cell_type": "code",
   "execution_count": 4,
   "id": "fb8a0041",
   "metadata": {},
   "outputs": [
    {
     "data": {
      "text/html": [
       "<div>\n",
       "<style scoped>\n",
       "    .dataframe tbody tr th:only-of-type {\n",
       "        vertical-align: middle;\n",
       "    }\n",
       "\n",
       "    .dataframe tbody tr th {\n",
       "        vertical-align: top;\n",
       "    }\n",
       "\n",
       "    .dataframe thead th {\n",
       "        text-align: right;\n",
       "    }\n",
       "</style>\n",
       "<table border=\"1\" class=\"dataframe\">\n",
       "  <thead>\n",
       "    <tr style=\"text-align: right;\">\n",
       "      <th></th>\n",
       "      <th>RI</th>\n",
       "      <th>Na</th>\n",
       "      <th>Mg</th>\n",
       "      <th>Al</th>\n",
       "      <th>Si</th>\n",
       "      <th>K</th>\n",
       "      <th>Ca</th>\n",
       "      <th>Ba</th>\n",
       "      <th>Fe</th>\n",
       "      <th>Type</th>\n",
       "    </tr>\n",
       "  </thead>\n",
       "  <tbody>\n",
       "    <tr>\n",
       "      <th>0</th>\n",
       "      <td>1.52101</td>\n",
       "      <td>13.64</td>\n",
       "      <td>4.49</td>\n",
       "      <td>1.10</td>\n",
       "      <td>71.78</td>\n",
       "      <td>0.06</td>\n",
       "      <td>8.75</td>\n",
       "      <td>0.0</td>\n",
       "      <td>0.0</td>\n",
       "      <td>1</td>\n",
       "    </tr>\n",
       "    <tr>\n",
       "      <th>1</th>\n",
       "      <td>1.51761</td>\n",
       "      <td>13.89</td>\n",
       "      <td>3.60</td>\n",
       "      <td>1.36</td>\n",
       "      <td>72.73</td>\n",
       "      <td>0.48</td>\n",
       "      <td>7.83</td>\n",
       "      <td>0.0</td>\n",
       "      <td>0.0</td>\n",
       "      <td>1</td>\n",
       "    </tr>\n",
       "    <tr>\n",
       "      <th>2</th>\n",
       "      <td>1.51618</td>\n",
       "      <td>13.53</td>\n",
       "      <td>3.55</td>\n",
       "      <td>1.54</td>\n",
       "      <td>72.99</td>\n",
       "      <td>0.39</td>\n",
       "      <td>7.78</td>\n",
       "      <td>0.0</td>\n",
       "      <td>0.0</td>\n",
       "      <td>1</td>\n",
       "    </tr>\n",
       "    <tr>\n",
       "      <th>3</th>\n",
       "      <td>1.51766</td>\n",
       "      <td>13.21</td>\n",
       "      <td>3.69</td>\n",
       "      <td>1.29</td>\n",
       "      <td>72.61</td>\n",
       "      <td>0.57</td>\n",
       "      <td>8.22</td>\n",
       "      <td>0.0</td>\n",
       "      <td>0.0</td>\n",
       "      <td>1</td>\n",
       "    </tr>\n",
       "    <tr>\n",
       "      <th>4</th>\n",
       "      <td>1.51742</td>\n",
       "      <td>13.27</td>\n",
       "      <td>3.62</td>\n",
       "      <td>1.24</td>\n",
       "      <td>73.08</td>\n",
       "      <td>0.55</td>\n",
       "      <td>8.07</td>\n",
       "      <td>0.0</td>\n",
       "      <td>0.0</td>\n",
       "      <td>1</td>\n",
       "    </tr>\n",
       "  </tbody>\n",
       "</table>\n",
       "</div>"
      ],
      "text/plain": [
       "        RI     Na    Mg    Al     Si     K    Ca   Ba   Fe  Type\n",
       "0  1.52101  13.64  4.49  1.10  71.78  0.06  8.75  0.0  0.0     1\n",
       "1  1.51761  13.89  3.60  1.36  72.73  0.48  7.83  0.0  0.0     1\n",
       "2  1.51618  13.53  3.55  1.54  72.99  0.39  7.78  0.0  0.0     1\n",
       "3  1.51766  13.21  3.69  1.29  72.61  0.57  8.22  0.0  0.0     1\n",
       "4  1.51742  13.27  3.62  1.24  73.08  0.55  8.07  0.0  0.0     1"
      ]
     },
     "execution_count": 4,
     "metadata": {},
     "output_type": "execute_result"
    }
   ],
   "source": [
    "df.head()\n"
   ]
  },
  {
   "cell_type": "code",
   "execution_count": 5,
   "id": "afec9900",
   "metadata": {},
   "outputs": [
    {
     "data": {
      "text/plain": [
       "['RI', 'Na', 'Mg', 'Al', 'Si', 'K', 'Ca', 'Ba', 'Fe', 'Type']"
      ]
     },
     "execution_count": 5,
     "metadata": {},
     "output_type": "execute_result"
    }
   ],
   "source": [
    "list(df)\n"
   ]
  },
  {
   "cell_type": "code",
   "execution_count": 6,
   "id": "19d59268",
   "metadata": {},
   "outputs": [],
   "source": [
    "#step3: split as X and Y variable\n",
    "Y = df[\"Type\"]\n",
    "X = df.iloc[:,1:10]\n"
   ]
  },
  {
   "cell_type": "code",
   "execution_count": 7,
   "id": "feeca69b",
   "metadata": {},
   "outputs": [],
   "source": [
    "# standardization\n",
    "from sklearn.preprocessing import StandardScaler\n",
    "SS = StandardScaler()\n",
    "SS_X = SS.fit_transform(X)\n",
    "SS_X = pd.DataFrame(SS_X)\n",
    "\n"
   ]
  },
  {
   "cell_type": "code",
   "execution_count": 8,
   "id": "0e6d067e",
   "metadata": {},
   "outputs": [
    {
     "data": {
      "text/plain": [
       "(65, 9)"
      ]
     },
     "execution_count": 8,
     "metadata": {},
     "output_type": "execute_result"
    }
   ],
   "source": [
    "# Data partition\n",
    "from sklearn.model_selection import train_test_split\n",
    "X_train,X_test,Y_train,Y_test = train_test_split(SS_X,Y,test_size=0.30)\n",
    "\n",
    "X_train.shape\n",
    "X_test.shape\n",
    "\n"
   ]
  },
  {
   "cell_type": "code",
   "execution_count": 9,
   "id": "ea8e1d9f",
   "metadata": {},
   "outputs": [],
   "source": [
    "#step5: linear regression\n",
    "from sklearn.linear_model import LinearRegression\n",
    "linreg =LinearRegression()\n",
    "\n",
    "linreg.fit(X_train,Y_train)\n",
    "\n",
    "Y_pred_train = linreg.predict(X_train)\n",
    "Y_pred_test  = linreg.predict(X_test)\n"
   ]
  },
  {
   "cell_type": "code",
   "execution_count": 10,
   "id": "9217f9e8",
   "metadata": {},
   "outputs": [
    {
     "name": "stdout",
     "output_type": "stream",
     "text": [
      "Training Error: 0.0\n",
      "Test Error: 0.0\n"
     ]
    }
   ],
   "source": [
    "# step6:  metrics\n",
    "from sklearn.metrics import mean_squared_error\n",
    "training_error = mean_squared_error(Y_train,Y_pred_train)\n",
    "test_error = mean_squared_error(Y_test,Y_pred_test)\n",
    "\n",
    "print(\"Training Error:\", training_error.round(2))\n",
    "print(\"Test Error:\", test_error.round(2))\n"
   ]
  },
  {
   "cell_type": "code",
   "execution_count": 11,
   "id": "638b6d28",
   "metadata": {},
   "outputs": [
    {
     "name": "stdout",
     "output_type": "stream",
     "text": [
      "Cross validation training results: 0    0.0\n",
      "dtype: float64\n",
      "Cross validation test results: 0    0.0\n",
      "dtype: float64\n"
     ]
    }
   ],
   "source": [
    "# cross validation\n",
    "\n",
    "training_error = []\n",
    "test_error = []\n",
    "\n",
    "for i in range(1,100):\n",
    "    X_train,X_test,Y_train,Y_test = train_test_split(SS_X,Y,test_size=0.30,random_state=i)\n",
    "    linreg.fit(X_train,Y_train)\n",
    "    Y_pred_train = linreg.predict(X_train)\n",
    "    Y_pred_test  = linreg.predict(X_test)\n",
    "    training_error.append(mean_squared_error(Y_train,Y_pred_train))\n",
    "    test_error.append(mean_squared_error(Y_test,Y_pred_test))\n",
    "\n",
    "\n",
    "k1 = pd.DataFrame(training_error)\n",
    "print(\"Cross validation training results:\",k1.mean().round(2))\n",
    "k2 = pd.DataFrame(test_error)\n",
    "print(\"Cross validation test results:\",k2.mean().round(2))\n",
    "\n",
    "\n",
    "\n",
    "\n",
    "\n"
   ]
  },
  {
   "cell_type": "code",
   "execution_count": 12,
   "id": "9ce877b7",
   "metadata": {},
   "outputs": [],
   "source": [
    "#knn classifer with its accuracy\n",
    "\n",
    "from sklearn.neighbors import KNeighborsClassifier\n",
    "KNN = KNeighborsClassifier(n_neighbors=9)\n",
    "\n",
    "KNN.fit(X_train,Y_train)\n",
    "\n",
    "Y_pred_train = KNN.predict(X_train)\n",
    "Y_pred_test  = KNN.predict(X_test)\n",
    "\n"
   ]
  },
  {
   "cell_type": "code",
   "execution_count": 13,
   "id": "e2c60b69",
   "metadata": {},
   "outputs": [
    {
     "name": "stdout",
     "output_type": "stream",
     "text": [
      "Training Error: 0.77\n",
      "Test Error: 0.6\n"
     ]
    }
   ],
   "source": [
    "# step6:  metrics\n",
    "from sklearn.metrics import mean_squared_error\n",
    "training_error = mean_squared_error(Y_train,Y_pred_train)\n",
    "test_error = mean_squared_error(Y_test,Y_pred_test)\n",
    "\n",
    "print(\"Training Error:\", training_error.round(2))\n",
    "print(\"Test Error:\", test_error.round(2))\n",
    "\n"
   ]
  },
  {
   "cell_type": "code",
   "execution_count": 14,
   "id": "28313886",
   "metadata": {},
   "outputs": [
    {
     "name": "stdout",
     "output_type": "stream",
     "text": [
      "Cross validation training results: 0    0.34\n",
      "dtype: float64\n",
      "Cross validation test results: 0    0.63\n",
      "dtype: float64\n"
     ]
    }
   ],
   "source": [
    "# cross validation\n",
    "\n",
    "from sklearn.neighbors import KNeighborsClassifier\n",
    "KNN = KNeighborsClassifier(n_neighbors=4)\n",
    "\n",
    "training_error = []\n",
    "test_error = []\n",
    "\n",
    "for i in range(1,100):\n",
    "    X_train,X_test,Y_train,Y_test = train_test_split(SS_X,Y,test_size=0.30,random_state=i)\n",
    "    KNN.fit(X_train,Y_train)\n",
    "    Y_pred_train = KNN.predict(X_train)\n",
    "    Y_pred_test  = KNN.predict(X_test)\n",
    "    training_error.append(mean_squared_error(Y_train,Y_pred_train))\n",
    "    test_error.append(mean_squared_error(Y_test,Y_pred_test))\n",
    "\n",
    "\n",
    "k1 = pd.DataFrame(training_error)\n",
    "print(\"Cross validation training results:\",k1.mean().round(2))\n",
    "k2 = pd.DataFrame(test_error)\n",
    "print(\"Cross validation test results:\",k2.mean().round(2))\n"
   ]
  },
  {
   "cell_type": "code",
   "execution_count": null,
   "id": "a80d1008",
   "metadata": {},
   "outputs": [],
   "source": []
  }
 ],
 "metadata": {
  "kernelspec": {
   "display_name": "Python 3 (ipykernel)",
   "language": "python",
   "name": "python3"
  },
  "language_info": {
   "codemirror_mode": {
    "name": "ipython",
    "version": 3
   },
   "file_extension": ".py",
   "mimetype": "text/x-python",
   "name": "python",
   "nbconvert_exporter": "python",
   "pygments_lexer": "ipython3",
   "version": "3.11.5"
  }
 },
 "nbformat": 4,
 "nbformat_minor": 5
}
